{
 "cells": [
  {
   "cell_type": "code",
   "execution_count": 1,
   "id": "83431e86-76ed-45d3-821f-c647e5ff5809",
   "metadata": {},
   "outputs": [],
   "source": [
    "import requests\n",
    "import pandas as pd"
   ]
  },
  {
   "cell_type": "code",
   "execution_count": 2,
   "id": "1d23aea9-b7fc-423a-b13a-d2dd7a857af5",
   "metadata": {},
   "outputs": [],
   "source": [
    "import requests\n",
    "\n",
    "def get_store(state, lat, long):\n",
    "    # API URL\n",
    "    url = f\"https://site.becn.com/site/api-man/StoreLocation?lat={lat}&long={long}&range=5000&facets=\"\n",
    "    #42.011539\t-93.210526\n",
    "\n",
    "    # Headers\n",
    "    headers = {\n",
    "        \"Host\": \"site.becn.com\",\n",
    "        \"User-Agent\": \"Mozilla/5.0 (Windows NT 10.0; Win64; x64; rv:135.0) Gecko/20100101 Firefox/135.0\",\n",
    "        \"Accept\": \"application/json, text/plain, */*\",\n",
    "        \"Accept-Language\": \"en-US,en;q=0.5\",\n",
    "        \"Accept-Encoding\": \"gzip, deflate, br, zstd\",\n",
    "        \"Referer\": \"https://www.becn.com/find-a-store\",\n",
    "        \"Origin\": \"https://www.becn.com\",\n",
    "        \"Connection\": \"keep-alive\",\n",
    "        \"Sec-Fetch-Dest\": \"empty\",\n",
    "        \"Sec-Fetch-Mode\": \"cors\",\n",
    "        \"Sec-Fetch-Site\": \"same-site\"\n",
    "    }\n",
    "\n",
    "    # Send GET request\n",
    "    response = requests.get(url, headers=headers)\n",
    "\n",
    "    # convert the result to df\n",
    "    data = response.json()  # Convert to JSON\n",
    "    stores = data.get(\"items\", [])  # Extract list of stores\n",
    "    \n",
    "    # Normalize JSON to DataFrame\n",
    "    df = pd.json_normalize(stores, sep='_')\n",
    "\n",
    "    # add two more column\n",
    "    #df['State'] = state\n",
    "    df['Latitude'] = lat\n",
    "    df['Longitude'] = long\n",
    "\n",
    "    return df"
   ]
  },
  {
   "cell_type": "code",
   "execution_count": 3,
   "id": "251ba2fc-3544-47b9-8cb5-4f775da6856a",
   "metadata": {},
   "outputs": [],
   "source": [
    "# List of U.S. states with latitude & longitude\n",
    "data = [\n",
    "    {\"State\": \"Alabama\", \"Abbreviation\": \"AL\", \"Latitude\": 32.806671, \"Longitude\": -86.791130},\n",
    "    {\"State\": \"Alaska\", \"Abbreviation\": \"AK\", \"Latitude\": 61.370716, \"Longitude\": -152.404419},\n",
    "    {\"State\": \"Arizona\", \"Abbreviation\": \"AZ\", \"Latitude\": 33.729759, \"Longitude\": -111.431221},\n",
    "    {\"State\": \"Arkansas\", \"Abbreviation\": \"AR\", \"Latitude\": 34.969704, \"Longitude\": -92.373123},\n",
    "    {\"State\": \"California\", \"Abbreviation\": \"CA\", \"Latitude\": 36.116203, \"Longitude\": -119.681564},\n",
    "    {\"State\": \"Colorado\", \"Abbreviation\": \"CO\", \"Latitude\": 39.059811, \"Longitude\": -105.311104},\n",
    "    {\"State\": \"Connecticut\", \"Abbreviation\": \"CT\", \"Latitude\": 41.597782, \"Longitude\": -72.755371},\n",
    "    {\"State\": \"Delaware\", \"Abbreviation\": \"DE\", \"Latitude\": 39.318523, \"Longitude\": -75.507141},\n",
    "    {\"State\": \"Florida\", \"Abbreviation\": \"FL\", \"Latitude\": 27.766279, \"Longitude\": -81.686783},\n",
    "    {\"State\": \"Georgia\", \"Abbreviation\": \"GA\", \"Latitude\": 33.040619, \"Longitude\": -83.643074},\n",
    "    {\"State\": \"Hawaii\", \"Abbreviation\": \"HI\", \"Latitude\": 21.094318, \"Longitude\": -157.498337},\n",
    "    {\"State\": \"Idaho\", \"Abbreviation\": \"ID\", \"Latitude\": 44.240459, \"Longitude\": -114.478828},\n",
    "    {\"State\": \"Illinois\", \"Abbreviation\": \"IL\", \"Latitude\": 40.349457, \"Longitude\": -88.986137},\n",
    "    {\"State\": \"Indiana\", \"Abbreviation\": \"IN\", \"Latitude\": 39.849426, \"Longitude\": -86.258278},\n",
    "    {\"State\": \"Iowa\", \"Abbreviation\": \"IA\", \"Latitude\": 42.011539, \"Longitude\": -93.210526},\n",
    "    {\"State\": \"Kansas\", \"Abbreviation\": \"KS\", \"Latitude\": 38.526600, \"Longitude\": -96.726486},\n",
    "    {\"State\": \"Kentucky\", \"Abbreviation\": \"KY\", \"Latitude\": 37.668140, \"Longitude\": -84.670067},\n",
    "    {\"State\": \"Louisiana\", \"Abbreviation\": \"LA\", \"Latitude\": 31.169546, \"Longitude\": -91.867805},\n",
    "    {\"State\": \"Maine\", \"Abbreviation\": \"ME\", \"Latitude\": 44.693947, \"Longitude\": -69.381927},\n",
    "    {\"State\": \"Maryland\", \"Abbreviation\": \"MD\", \"Latitude\": 39.063946, \"Longitude\": -76.802101},\n",
    "    {\"State\": \"Massachusetts\", \"Abbreviation\": \"MA\", \"Latitude\": 42.230171, \"Longitude\": -71.530106},\n",
    "    {\"State\": \"Michigan\", \"Abbreviation\": \"MI\", \"Latitude\": 43.326618, \"Longitude\": -84.536095},\n",
    "    {\"State\": \"Minnesota\", \"Abbreviation\": \"MN\", \"Latitude\": 45.694454, \"Longitude\": -93.900192},\n",
    "    {\"State\": \"Mississippi\", \"Abbreviation\": \"MS\", \"Latitude\": 32.741646, \"Longitude\": -89.678696},\n",
    "    {\"State\": \"Missouri\", \"Abbreviation\": \"MO\", \"Latitude\": 38.456085, \"Longitude\": -92.288368},\n",
    "    {\"State\": \"Montana\", \"Abbreviation\": \"MT\", \"Latitude\": 46.921925, \"Longitude\": -110.454353},\n",
    "    {\"State\": \"Nebraska\", \"Abbreviation\": \"NE\", \"Latitude\": 41.125370, \"Longitude\": -98.268082},\n",
    "    {\"State\": \"Nevada\", \"Abbreviation\": \"NV\", \"Latitude\": 38.313515, \"Longitude\": -117.055374},\n",
    "    {\"State\": \"New Hampshire\", \"Abbreviation\": \"NH\", \"Latitude\": 43.452492, \"Longitude\": -71.563896},\n",
    "    {\"State\": \"New Jersey\", \"Abbreviation\": \"NJ\", \"Latitude\": 40.298904, \"Longitude\": -74.521011},\n",
    "    {\"State\": \"New Mexico\", \"Abbreviation\": \"NM\", \"Latitude\": 34.840515, \"Longitude\": -106.248482},\n",
    "    {\"State\": \"New York\", \"Abbreviation\": \"NY\", \"Latitude\": 42.165726, \"Longitude\": -74.948051},\n",
    "    {\"State\": \"North Carolina\", \"Abbreviation\": \"NC\", \"Latitude\": 35.630066, \"Longitude\": -79.806419},\n",
    "    {\"State\": \"North Dakota\", \"Abbreviation\": \"ND\", \"Latitude\": 47.528912, \"Longitude\": -99.784012},\n",
    "    {\"State\": \"Ohio\", \"Abbreviation\": \"OH\", \"Latitude\": 40.388783, \"Longitude\": -82.764915},\n",
    "    {\"State\": \"Oklahoma\", \"Abbreviation\": \"OK\", \"Latitude\": 35.565342, \"Longitude\": -96.928917},\n",
    "    {\"State\": \"Oregon\", \"Abbreviation\": \"OR\", \"Latitude\": 44.572021, \"Longitude\": -122.070938},\n",
    "    {\"State\": \"Pennsylvania\", \"Abbreviation\": \"PA\", \"Latitude\": 40.590752, \"Longitude\": -77.209755},\n",
    "    {\"State\": \"Rhode Island\", \"Abbreviation\": \"RI\", \"Latitude\": 41.680893, \"Longitude\": -71.511780},\n",
    "    {\"State\": \"South Carolina\", \"Abbreviation\": \"SC\", \"Latitude\": 33.856892, \"Longitude\": -80.945007},\n",
    "    {\"State\": \"South Dakota\", \"Abbreviation\": \"SD\", \"Latitude\": 44.299782, \"Longitude\": -99.438828},\n",
    "    {\"State\": \"Tennessee\", \"Abbreviation\": \"TN\", \"Latitude\": 35.747845, \"Longitude\": -86.692345},\n",
    "    {\"State\": \"Texas\", \"Abbreviation\": \"TX\", \"Latitude\": 31.054487, \"Longitude\": -97.563461},\n",
    "    {\"State\": \"Utah\", \"Abbreviation\": \"UT\", \"Latitude\": 40.150032, \"Longitude\": -111.862434},\n",
    "    {\"State\": \"Vermont\", \"Abbreviation\": \"VT\", \"Latitude\": 44.045876, \"Longitude\": -72.710686},\n",
    "    {\"State\": \"Virginia\", \"Abbreviation\": \"VA\", \"Latitude\": 37.769337, \"Longitude\": -78.169968},\n",
    "    {\"State\": \"Washington\", \"Abbreviation\": \"WA\", \"Latitude\": 47.400902, \"Longitude\": -121.490494},\n",
    "    {\"State\": \"West Virginia\", \"Abbreviation\": \"WV\", \"Latitude\": 38.491226, \"Longitude\": -80.954457},\n",
    "    {\"State\": \"Wisconsin\", \"Abbreviation\": \"WI\", \"Latitude\": 44.268543, \"Longitude\": -89.616508},\n",
    "    {\"State\": \"Wyoming\", \"Abbreviation\": \"WY\", \"Latitude\": 42.755966, \"Longitude\": -107.302490}\n",
    "]\n",
    "\n",
    "# Convert to DataFrame\n",
    "df_states = pd.DataFrame(data)\n"
   ]
  },
  {
   "cell_type": "code",
   "execution_count": 4,
   "id": "a8386234-685e-43eb-8461-396de325d6df",
   "metadata": {},
   "outputs": [],
   "source": [
    "df_states['Latitude'] = df_states['Latitude'].astype(str)\n",
    "df_states['Longitude'] = df_states['Longitude'].astype(str)\n"
   ]
  },
  {
   "cell_type": "code",
   "execution_count": 5,
   "id": "c570e5d2-2754-455f-8cd9-0a24cd64509c",
   "metadata": {},
   "outputs": [],
   "source": [
    "df_stores_province = []\n",
    "\n",
    "for index, row in df_states.iterrows():  # Fix: Unpacking correctly\n",
    "    df_output = get_store(row['State'], row['Latitude'], row['Longitude'])  # Fix: Correct column reference\n",
    "    df_stores_province.append(df_output)\n"
   ]
  },
  {
   "cell_type": "code",
   "execution_count": 6,
   "id": "5faf055d-b82b-466b-afcf-65d5021adc90",
   "metadata": {},
   "outputs": [
    {
     "name": "stdout",
     "output_type": "stream",
     "text": [
      "result shape: (4987, 21)\n"
     ]
    }
   ],
   "source": [
    "df_final_states = pd.concat(df_stores_province)\n",
    "print(f'result shape: {df_final_states.shape}')"
   ]
  },
  {
   "cell_type": "code",
   "execution_count": 7,
   "id": "6335d13e-2bec-49e4-a185-e7b011154d4b",
   "metadata": {},
   "outputs": [],
   "source": [
    "# export\n",
    "df_final_states.to_csv('result.csv', index=False)"
   ]
  },
  {
   "cell_type": "code",
   "execution_count": null,
   "id": "4ea9e835-19b6-45bf-aeac-709c34307899",
   "metadata": {},
   "outputs": [],
   "source": []
  }
 ],
 "metadata": {
  "kernelspec": {
   "display_name": "Python 3 (ipykernel)",
   "language": "python",
   "name": "python3"
  },
  "language_info": {
   "codemirror_mode": {
    "name": "ipython",
    "version": 3
   },
   "file_extension": ".py",
   "mimetype": "text/x-python",
   "name": "python",
   "nbconvert_exporter": "python",
   "pygments_lexer": "ipython3",
   "version": "3.12.7"
  }
 },
 "nbformat": 4,
 "nbformat_minor": 5
}
